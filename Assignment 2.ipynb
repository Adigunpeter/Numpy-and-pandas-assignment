{
 "cells": [
  {
   "cell_type": "code",
   "execution_count": null,
   "id": "27a13204",
   "metadata": {},
   "outputs": [],
   "source": [
    "#np equivalent functions for aggregation\n",
    "#np.sum(xv) # == np.add.reduce\n",
    "# np.prod() == np.multiply.reduce\n",
    "# np.cumsum() == np.add.accumulate\n",
    "# np.cumprod() ==np.multiply.accumulate"
   ]
  },
  {
   "cell_type": "code",
   "execution_count": 3,
   "id": "07000b8a",
   "metadata": {},
   "outputs": [
    {
     "data": {
      "text/plain": [
       "array([1, 2, 3, 4, 5, 6, 7, 8])"
      ]
     },
     "execution_count": 3,
     "metadata": {},
     "output_type": "execute_result"
    }
   ],
   "source": [
    "# generate array of five values\n",
    "import numpy as np\n",
    "mn = np.arange(1,9)\n",
    "mn"
   ]
  },
  {
   "cell_type": "code",
   "execution_count": 4,
   "id": "7daf0599",
   "metadata": {},
   "outputs": [
    {
     "data": {
      "text/plain": [
       "36"
      ]
     },
     "execution_count": 4,
     "metadata": {},
     "output_type": "execute_result"
    }
   ],
   "source": [
    "# returns the max of a array\n",
    "np.sum(mn)\n",
    "#np.add.reduce"
   ]
  },
  {
   "cell_type": "code",
   "execution_count": 6,
   "id": "63a5bb50",
   "metadata": {},
   "outputs": [
    {
     "data": {
      "text/plain": [
       "40320"
      ]
     },
     "execution_count": 6,
     "metadata": {},
     "output_type": "execute_result"
    }
   ],
   "source": [
    "np.prod(mn)\n",
    "#np.multiply.reduce"
   ]
  },
  {
   "cell_type": "code",
   "execution_count": 7,
   "id": "b00b8819",
   "metadata": {},
   "outputs": [
    {
     "data": {
      "text/plain": [
       "array([ 1,  3,  6, 10, 15, 21, 28, 36], dtype=int32)"
      ]
     },
     "execution_count": 7,
     "metadata": {},
     "output_type": "execute_result"
    }
   ],
   "source": [
    "np.cumsum(mn)\n",
    "#np.add.accumulate"
   ]
  },
  {
   "cell_type": "code",
   "execution_count": null,
   "id": "979d1828",
   "metadata": {},
   "outputs": [],
   "source": []
  }
 ],
 "metadata": {
  "kernelspec": {
   "display_name": "Python 3 (ipykernel)",
   "language": "python",
   "name": "python3"
  },
  "language_info": {
   "codemirror_mode": {
    "name": "ipython",
    "version": 3
   },
   "file_extension": ".py",
   "mimetype": "text/x-python",
   "name": "python",
   "nbconvert_exporter": "python",
   "pygments_lexer": "ipython3",
   "version": "3.9.12"
  }
 },
 "nbformat": 4,
 "nbformat_minor": 5
}
